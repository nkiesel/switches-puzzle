{
 "cells": [
  {
   "cell_type": "markdown",
   "source": [
    "# Switches Challenge\n",
    "\n",
    "You wind up in a very long, narrow, and circular hallway. The hallway has switches on the wall, but no other features\n",
    "that allow you to identify where you are in the hallway. These switches are all at the same height, and all have the\n",
    "same distance of 1 step to their left and right neighbor switch. You can see if a switch is up or down, and toggle it,\n",
    "but you are not allowed to mark them or their location (e.g. you cannot drop a shoe in the hallway or rip a switch out\n",
    "of the wall). You are alone in the hallway. If you toggle a switch, it will stay fixed unless you toggle it again.\n",
    "\n",
    "Now here is the problem: you can only leave the hallway after you figured out how many switches are in the hallway. How\n",
    "do you do that?"
   ],
   "metadata": {
    "collapsed": false
   }
  },
  {
   "cell_type": "markdown",
   "source": [
    "# Data Structures\n",
    "\n",
    "First, let's define a data structure for switches. Every switch only has one property, and we initialize that using\n",
    "`Random.nextBoolean` to simplify the usage."
   ],
   "metadata": {
    "collapsed": false
   }
  },
  {
   "cell_type": "code",
   "outputs": [],
   "source": [
    "enum class Position { UP, DOWN }\n",
    "class Switch {\n",
    "    var position = if (Random.nextBoolean()) Position.UP else Position.DOWN\n",
    "}"
   ],
   "metadata": {
    "collapsed": false,
    "ExecuteTime": {
     "end_time": "2024-02-04T22:29:44.605673198Z",
     "start_time": "2024-02-04T22:29:44.506764795Z"
    }
   },
   "execution_count": 10
  },
  {
   "cell_type": "markdown",
   "source": [
    "Next we create the hallway. The proper data structure to encode the problem is to use a double-linked list. We\n",
    "also add a `addRight` method which adds a new node to the right side of a node."
   ],
   "metadata": {
    "collapsed": false
   }
  },
  {
   "cell_type": "code",
   "outputs": [],
   "source": [
    "class Node<T>(val data: T) {\n",
    "    var left = this\n",
    "    var right = this\n",
    "\n",
    "    fun addRight(other: Node<T>) {\n",
    "        other.right = right\n",
    "\n",
    "        other.left = this\n",
    "        other.right.left = other\n",
    "        right = other\n",
    "    }\n",
    "}"
   ],
   "metadata": {
    "collapsed": false,
    "ExecuteTime": {
     "end_time": "2024-02-04T22:29:44.667530851Z",
     "start_time": "2024-02-04T22:29:44.583733862Z"
    }
   },
   "execution_count": 11
  },
  {
   "cell_type": "markdown",
   "source": [
    "Next step is that we have to create list using these data structures.  We allow the caller to pick the length of the\n",
    "list, but also provide a reasonable default value.  After creating the list, we walk to the right a random number of\n",
    "steps to implement the \"You ended up somewhere in the hallway\" situation. "
   ],
   "metadata": {
    "collapsed": false
   }
  },
  {
   "cell_type": "code",
   "outputs": [],
   "source": [
    "fun setup(count: Int): Node<Switch> {\n",
    "    val first = Node(Switch())\n",
    "    repeat(count - 1) { first.addRight(Node(Switch())) }\n",
    "    var start = first\n",
    "    repeat(Random.nextInt(count)) { start = start.right }\n",
    "    return start\n",
    "}"
   ],
   "metadata": {
    "collapsed": false,
    "ExecuteTime": {
     "end_time": "2024-02-04T22:29:44.753035204Z",
     "start_time": "2024-02-04T22:29:44.669071825Z"
    }
   },
   "execution_count": 12
  },
  {
   "cell_type": "markdown",
   "source": [
    "Now comes the interesting part: how do we implement the `counter` method? Here is the\n",
    "basic idea: we make sure that all but one switch are in the down position. Then we walk\n",
    "from that \"UP\" switch until we reach it again, and count how many switches we pass during\n",
    "that walk, which will give us the requested answer.  Which now brings up the next issue: how\n",
    "can we be sure that - when we find a switch in the UP position - it was the starting switch\n",
    "and not a switch we never walked by before? The solution for this is: walk from the start into\n",
    "the same direction until we find a \"UP switch.  Once we arrive at a \"UP\" switch, we toggle it\n",
    "into \"DOWN\" and then walk back the same number of steps.  If the switch we started at is now\n",
    "\"DOWN\", then we toggled it before we walked back, and thus we have the answer! Otherwise,\n",
    "we know that the switch we toggled was not the start switch. So we start again..."
   ],
   "metadata": {
    "collapsed": false
   }
  },
  {
   "cell_type": "markdown",
   "source": [
    "One complete initial solution is:"
   ],
   "metadata": {
    "collapsed": false
   }
  },
  {
   "cell_type": "code",
   "outputs": [],
   "source": [
    "class Counter {\n",
    "    enum class Position { UP, DOWN }\n",
    "    class Switch {\n",
    "        var position = if (Random.nextBoolean()) Position.UP else Position.DOWN\n",
    "    }\n",
    "\n",
    "    class Node<T>(val data: T) {\n",
    "        var left = this\n",
    "        var right = this\n",
    "\n",
    "        fun addRight(other: Node<T>) {\n",
    "            other.right = right\n",
    "\n",
    "            other.left = this\n",
    "            other.right.left = other\n",
    "            right = other\n",
    "        }\n",
    "    }\n",
    "\n",
    "    fun setup(count: Int): Node<Switch> {\n",
    "        val first = Node(Switch())\n",
    "        repeat(count - 1) { first.addRight(Node(Switch())) }\n",
    "        var start = first\n",
    "        repeat(Random.nextInt(count)) { start = start.right }\n",
    "        return start\n",
    "    }\n",
    "\n",
    "    fun basic(count: Int = 100) {\n",
    "        val start = setup(count)\n",
    "        val answer = basicCount(start)\n",
    "        println(\"The number of switches is $answer\")\n",
    "    }\n",
    "    \n",
    "    fun basicCount(start: Node<Switch>): Int {\n",
    "        start.data.position = Position.UP\n",
    "        var node = start\n",
    "        while (true) {\n",
    "            var steps = 0\n",
    "\n",
    "            do {\n",
    "                node = node.right\n",
    "                steps++\n",
    "            } while (node.data.position == Position.DOWN)\n",
    "            node.data.position = Position.DOWN\n",
    "\n",
    "            repeat(steps) { node = node.left }\n",
    "            if (node.data.position == Position.DOWN) return steps\n",
    "        }\n",
    "    }\n",
    "}"
   ],
   "metadata": {
    "collapsed": false,
    "ExecuteTime": {
     "end_time": "2024-02-04T22:29:45.525305659Z",
     "start_time": "2024-02-04T22:29:44.981089862Z"
    }
   },
   "execution_count": 14
  },
  {
   "cell_type": "code",
   "outputs": [],
   "source": [
    "Counter().basic(150)"
   ],
   "metadata": {
    "collapsed": false
   },
   "execution_count": null
  }
 ],
 "metadata": {
  "kernelspec": {
   "display_name": "Kotlin",
   "language": "kotlin",
   "name": "kotlin"
  },
  "language_info": {
   "name": "kotlin",
   "version": "1.9.0",
   "mimetype": "text/x-kotlin",
   "file_extension": ".kt",
   "pygments_lexer": "kotlin",
   "codemirror_mode": "text/x-kotlin",
   "nbconvert_exporter": ""
  }
 },
 "nbformat": 4,
 "nbformat_minor": 0
}
